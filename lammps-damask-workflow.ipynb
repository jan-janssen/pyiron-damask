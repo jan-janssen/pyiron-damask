{
 "cells": [
  {
   "cell_type": "markdown",
   "metadata": {},
   "source": [
    "# Concentration dependent elastic constants\n",
    "\n",
    "Here we demonstrate the new `SQSElasticConstantsList` job, which gets elastic constants as a function of chemical composition.\n",
    "\n",
    "This job works by using special quasirandom structures (implemented by Dominik Gehringer and Jan Janssen) to create cells with the requested chemical composition from a base crystal structure. These are then evaluated for their elastic constants (implemented by Yuri Lysogorskiy). These are fully relaxed and the basic output is the chemical composition and full 6x6 elastic matrix. (More detailed output is available from the underlying `SQSElasticConstants` job stored in HDF5, but user-friendly bindings are not currently implemented.)\n",
    "\n",
    "These components were assembled together in a single job (implemented by Liam Huber) that takes a list of dictionaries giving the desired chemical compositions (e.g. `{'Al': 0.95, 'Mg': 0.04, '0': 0.01}` for 95% Aluminium 4% Magnesium and 1% vacancies) and three reference jobs: a `ref_ham` which says how the structures should be interpreted for forces and energies (e.g. a Lammps job with a particular potential) -- the structure of this job provides the base crystal upon which the chemical compositions are imposed -- and `ref_sqs` and `ref_elastic` which hold the input parameters for the SQS and elastic constant calculation components.\n",
    "\n",
    "The current implementation only facilitates modal run modes and is not heavily tested. The example below takes less than 30 minutes on a single core, so for the purposes of demonstration this is not a serious limitation."
   ]
  },
  {
   "cell_type": "code",
   "execution_count": 1,
   "metadata": {},
   "outputs": [],
   "source": [
    "%matplotlib inline"
   ]
  },
  {
   "cell_type": "code",
   "execution_count": 2,
   "metadata": {
    "ExecuteTime": {
     "end_time": "2020-10-05T07:58:05.296301Z",
     "start_time": "2020-10-05T07:58:00.839091Z"
    }
   },
   "outputs": [],
   "source": [
    "from pyiron import Project\n",
    "import numpy as np\n",
    "import matplotlib.pyplot as plt\n",
    "from elastic import ElasticMatrixJob\n",
    "from damaskjob import DAMASKjob\n",
    "import seaborn as sns\n",
    "import yaml"
   ]
  },
  {
   "cell_type": "code",
   "execution_count": 3,
   "metadata": {
    "ExecuteTime": {
     "end_time": "2020-10-05T07:58:05.340298Z",
     "start_time": "2020-10-05T07:58:05.299253Z"
    }
   },
   "outputs": [],
   "source": [
    "pr = Project('elastic_pipeline')\n",
    "# pr.remove_jobs_silently(recursive=True)"
   ]
  },
  {
   "cell_type": "markdown",
   "metadata": {},
   "source": [
    "## Run the calculation\n",
    "\n",
    "Our test system will be Al with dilute Mg (up to 2%). Here we define the reference jobs, give our desired compositions.\n",
    "\n",
    "Feedback on the most user-friendly way to take chemical composition input (while still being fully flexible in allowed compositions!) is welcome -- this code is still in development."
   ]
  },
  {
   "cell_type": "code",
   "execution_count": 4,
   "metadata": {},
   "outputs": [
    {
     "name": "stdout",
     "output_type": "stream",
     "text": [
      "The job lammps_mini was saved and received the ID: 1\n"
     ]
    }
   ],
   "source": [
    "lmp_mini = pr.create_job(pr.job_type.Lammps, 'lammps_mini')\n",
    "lmp_mini.structure = pr.create_ase_bulk('Al', cubic=True).repeat(5)\n",
    "lmp_mini.potential = '2009--Mendelev-M-I--Al-Mg--LAMMPS--ipr1'\n",
    "lmp_mini.calc_minimize(pressure=0.0)\n",
    "lmp_mini.run()"
   ]
  },
  {
   "cell_type": "code",
   "execution_count": 5,
   "metadata": {},
   "outputs": [
    {
     "name": "stdout",
     "output_type": "stream",
     "text": [
      "The job master_al was saved and received the ID: 2\n",
      "The job sqs_0_005 was saved and received the ID: 3\n",
      "Mole fractions were corrected to: {'Mg': 0.004, 'Al': 0.996}\n",
      "Threads used: 1\n",
      "The job sqs_0_01 was saved and received the ID: 4\n",
      "Threads used: 1\n",
      "The job sqs_0_015 was saved and received the ID: 5\n",
      "Mole fractions were corrected to: {'Mg': 0.016, 'Al': 0.984}\n",
      "Threads used: 1\n",
      "The job sqs_0_02 was saved and received the ID: 6\n",
      "Threads used: 1\n"
     ]
    }
   ],
   "source": [
    "sqs_job_al = pr.create_job(\n",
    "    job_type=pr.job_type.SQSJob, \n",
    "    job_name=\"sqs_job_al\"\n",
    ")\n",
    "sqs_job_al.structure = lmp_mini.get_structure()\n",
    "sqs_job_al.input['iterations'] = 1000\n",
    "master_al = sqs_job_al.create_job(\n",
    "    job_type=pr.job_type.SQSMaster, \n",
    "    job_name=\"master_al\"\n",
    ")\n",
    "\n",
    "master_al.input[\"fraction_lst\"] = [0.005, 0.01, 0.015, 0.02]\n",
    "master_al.input[\"species_one\"] = \"Mg\"\n",
    "master_al.input[\"species_two\"] = \"Al\"\n",
    "master_al.run()"
   ]
  },
  {
   "cell_type": "code",
   "execution_count": 6,
   "metadata": {},
   "outputs": [],
   "source": [
    "concentration_lst = [0.0] + [0.005, 0.01, 0.015, 0.02]"
   ]
  },
  {
   "cell_type": "code",
   "execution_count": 7,
   "metadata": {},
   "outputs": [],
   "source": [
    "structure_lst = [lmp_mini.get_structure()] + master_al.list_of_structures"
   ]
  },
  {
   "cell_type": "code",
   "execution_count": 8,
   "metadata": {},
   "outputs": [
    {
     "data": {
      "text/plain": [
       "['Al500', 'Al498Mg2', 'Al495Mg5', 'Al492Mg8', 'Al490Mg10']"
      ]
     },
     "execution_count": 8,
     "metadata": {},
     "output_type": "execute_result"
    }
   ],
   "source": [
    "[s.get_chemical_formula() for s in structure_lst]"
   ]
  },
  {
   "cell_type": "code",
   "execution_count": 9,
   "metadata": {},
   "outputs": [
    {
     "name": "stdout",
     "output_type": "stream",
     "text": [
      "The job elastic_Al500 was saved and received the ID: 7\n",
      "The job elastic_Al500_lammps_tmp was saved and received the ID: 8\n"
     ]
    },
    {
     "name": "stderr",
     "output_type": "stream",
     "text": [
      "/srv/conda/envs/notebook/lib/python3.7/site-packages/pyiron_atomistics/lammps/interactive.py:376: UserWarning: Warning: setting upper trangular matrix might slow down the calculation\n",
      "  \"Warning: setting upper trangular matrix might slow down the calculation\"\n"
     ]
    },
    {
     "name": "stdout",
     "output_type": "stream",
     "text": [
      "The job elastic_Al498Mg2 was saved and received the ID: 9\n",
      "The job elastic_Al498Mg2_lammps_tmp was saved and received the ID: 10\n",
      "The job elastic_Al495Mg5 was saved and received the ID: 11\n",
      "The job elastic_Al495Mg5_lammps_tmp was saved and received the ID: 12\n",
      "The job elastic_Al492Mg8 was saved and received the ID: 13\n",
      "The job elastic_Al492Mg8_lammps_tmp was saved and received the ID: 14\n",
      "The job elastic_Al490Mg10 was saved and received the ID: 15\n",
      "The job elastic_Al490Mg10_lammps_tmp was saved and received the ID: 16\n"
     ]
    }
   ],
   "source": [
    "for s in structure_lst:\n",
    "    lmp_template = pr.create_job(pr.job_type.Lammps, 'lammps_tmp')\n",
    "    lmp_template.potential = '2009--Mendelev-M-I--Al-Mg--LAMMPS--ipr1'\n",
    "    lmp_template.server.run_mode.interactive = True\n",
    "    lmp_template.interactive_enforce_structure_reset = True\n",
    "    lmp_template.structure = s\n",
    "    elastic = lmp_template.create_job(ElasticMatrixJob, 'elastic_' + s.get_chemical_formula())\n",
    "    elastic.input['num_of_points'] = 5\n",
    "    elastic.input['fit_order'] = 2\n",
    "    elastic.input['eps_range'] = 0.005\n",
    "    elastic.input['relax_atoms'] = True\n",
    "    elastic.input['sqrt_eta'] = True\n",
    "    elastic.run()"
   ]
  },
  {
   "cell_type": "markdown",
   "metadata": {},
   "source": [
    "## post-processing the data\n",
    "\n",
    "The output of the job is stored to HDF5. To verify this, and since the actual calculation may be done at a different time than the results are analyzed, we demonstrate this by loading the job.\n",
    "\n",
    "There is also a little bit of annoying post-processing to get it all formatted as nice numpy arrays. Some of this is reasonable (like the need to explicitly add 0% Mg to the first chemistry -- we wouldn't want to list *everything that's not there*!), some is \"not my fault\" (like the way the InputList class mangles our chemistry dictionary on saving it to HDF), and some needs nicer helper functions in the future (like the ability to explicity ask for \"C12\" and get it by that string)."
   ]
  },
  {
   "cell_type": "code",
   "execution_count": 10,
   "metadata": {},
   "outputs": [
    {
     "data": {
      "text/html": [
       "<div>\n",
       "<style scoped>\n",
       "    .dataframe tbody tr th:only-of-type {\n",
       "        vertical-align: middle;\n",
       "    }\n",
       "\n",
       "    .dataframe tbody tr th {\n",
       "        vertical-align: top;\n",
       "    }\n",
       "\n",
       "    .dataframe thead th {\n",
       "        text-align: right;\n",
       "    }\n",
       "</style>\n",
       "<table border=\"1\" class=\"dataframe\">\n",
       "  <thead>\n",
       "    <tr style=\"text-align: right;\">\n",
       "      <th></th>\n",
       "      <th>id</th>\n",
       "      <th>status</th>\n",
       "      <th>chemicalformula</th>\n",
       "      <th>job</th>\n",
       "      <th>subjob</th>\n",
       "      <th>projectpath</th>\n",
       "      <th>project</th>\n",
       "      <th>timestart</th>\n",
       "      <th>timestop</th>\n",
       "      <th>totalcputime</th>\n",
       "      <th>computer</th>\n",
       "      <th>hamilton</th>\n",
       "      <th>hamversion</th>\n",
       "      <th>parentid</th>\n",
       "      <th>masterid</th>\n",
       "    </tr>\n",
       "  </thead>\n",
       "  <tbody>\n",
       "    <tr>\n",
       "      <th>0</th>\n",
       "      <td>1</td>\n",
       "      <td>finished</td>\n",
       "      <td>Al500</td>\n",
       "      <td>lammps_mini</td>\n",
       "      <td>/lammps_mini</td>\n",
       "      <td>/home/jovyan/</td>\n",
       "      <td>elastic_pipeline/</td>\n",
       "      <td>2021-01-29 16:24:17.349208</td>\n",
       "      <td>2021-01-29 16:24:18.185689</td>\n",
       "      <td>0.0</td>\n",
       "      <td>pyiron@jupyter-jan-2djanssen-2dpyiron-2ddamask-2dil4jnxmc#1</td>\n",
       "      <td>Lammps</td>\n",
       "      <td>0.1</td>\n",
       "      <td>None</td>\n",
       "      <td>NaN</td>\n",
       "    </tr>\n",
       "    <tr>\n",
       "      <th>1</th>\n",
       "      <td>2</td>\n",
       "      <td>finished</td>\n",
       "      <td>Al500</td>\n",
       "      <td>master_al</td>\n",
       "      <td>/master_al</td>\n",
       "      <td>/home/jovyan/</td>\n",
       "      <td>elastic_pipeline/</td>\n",
       "      <td>2021-01-29 16:24:20.458827</td>\n",
       "      <td>2021-01-29 16:24:30.522151</td>\n",
       "      <td>10.0</td>\n",
       "      <td>pyiron@jupyter-jan-2djanssen-2dpyiron-2ddamask-2dil4jnxmc#1#4/4</td>\n",
       "      <td>SQSMaster</td>\n",
       "      <td>0.0.1</td>\n",
       "      <td>None</td>\n",
       "      <td>NaN</td>\n",
       "    </tr>\n",
       "    <tr>\n",
       "      <th>2</th>\n",
       "      <td>3</td>\n",
       "      <td>finished</td>\n",
       "      <td>Al498Mg2</td>\n",
       "      <td>sqs_0_005</td>\n",
       "      <td>/sqs_0_005</td>\n",
       "      <td>/home/jovyan/</td>\n",
       "      <td>elastic_pipeline/master_al_hdf5/</td>\n",
       "      <td>2021-01-29 16:24:21.061644</td>\n",
       "      <td>2021-01-29 16:24:22.179395</td>\n",
       "      <td>1.0</td>\n",
       "      <td>pyiron@jupyter-jan-2djanssen-2dpyiron-2ddamask-2dil4jnxmc#1</td>\n",
       "      <td>SQSJob</td>\n",
       "      <td>0.1</td>\n",
       "      <td>None</td>\n",
       "      <td>2.0</td>\n",
       "    </tr>\n",
       "    <tr>\n",
       "      <th>3</th>\n",
       "      <td>4</td>\n",
       "      <td>finished</td>\n",
       "      <td>Al495Mg5</td>\n",
       "      <td>sqs_0_01</td>\n",
       "      <td>/sqs_0_01</td>\n",
       "      <td>/home/jovyan/</td>\n",
       "      <td>elastic_pipeline/master_al_hdf5/</td>\n",
       "      <td>2021-01-29 16:24:22.798986</td>\n",
       "      <td>2021-01-29 16:24:24.066690</td>\n",
       "      <td>1.0</td>\n",
       "      <td>pyiron@jupyter-jan-2djanssen-2dpyiron-2ddamask-2dil4jnxmc#1</td>\n",
       "      <td>SQSJob</td>\n",
       "      <td>0.1</td>\n",
       "      <td>None</td>\n",
       "      <td>2.0</td>\n",
       "    </tr>\n",
       "    <tr>\n",
       "      <th>4</th>\n",
       "      <td>5</td>\n",
       "      <td>finished</td>\n",
       "      <td>Al492Mg8</td>\n",
       "      <td>sqs_0_015</td>\n",
       "      <td>/sqs_0_015</td>\n",
       "      <td>/home/jovyan/</td>\n",
       "      <td>elastic_pipeline/master_al_hdf5/</td>\n",
       "      <td>2021-01-29 16:24:24.726199</td>\n",
       "      <td>2021-01-29 16:24:28.492472</td>\n",
       "      <td>3.0</td>\n",
       "      <td>pyiron@jupyter-jan-2djanssen-2dpyiron-2ddamask-2dil4jnxmc#1</td>\n",
       "      <td>SQSJob</td>\n",
       "      <td>0.1</td>\n",
       "      <td>None</td>\n",
       "      <td>2.0</td>\n",
       "    </tr>\n",
       "    <tr>\n",
       "      <th>5</th>\n",
       "      <td>6</td>\n",
       "      <td>finished</td>\n",
       "      <td>Al490Mg10</td>\n",
       "      <td>sqs_0_02</td>\n",
       "      <td>/sqs_0_02</td>\n",
       "      <td>/home/jovyan/</td>\n",
       "      <td>elastic_pipeline/master_al_hdf5/</td>\n",
       "      <td>2021-01-29 16:24:29.334604</td>\n",
       "      <td>2021-01-29 16:24:30.497905</td>\n",
       "      <td>1.0</td>\n",
       "      <td>pyiron@jupyter-jan-2djanssen-2dpyiron-2ddamask-2dil4jnxmc#1</td>\n",
       "      <td>SQSJob</td>\n",
       "      <td>0.1</td>\n",
       "      <td>None</td>\n",
       "      <td>2.0</td>\n",
       "    </tr>\n",
       "    <tr>\n",
       "      <th>6</th>\n",
       "      <td>7</td>\n",
       "      <td>finished</td>\n",
       "      <td>Al500</td>\n",
       "      <td>elastic_Al500</td>\n",
       "      <td>/elastic_Al500</td>\n",
       "      <td>/home/jovyan/</td>\n",
       "      <td>elastic_pipeline/</td>\n",
       "      <td>2021-01-29 16:24:33.884426</td>\n",
       "      <td>2021-01-29 16:24:42.685241</td>\n",
       "      <td>8.0</td>\n",
       "      <td>pyiron@jupyter-jan-2djanssen-2dpyiron-2ddamask-2dil4jnxmc#1#0</td>\n",
       "      <td>ElasticMatrixJob</td>\n",
       "      <td>0.0.1</td>\n",
       "      <td>None</td>\n",
       "      <td>NaN</td>\n",
       "    </tr>\n",
       "    <tr>\n",
       "      <th>7</th>\n",
       "      <td>8</td>\n",
       "      <td>finished</td>\n",
       "      <td>Al500</td>\n",
       "      <td>elastic_Al500_lammps_tmp</td>\n",
       "      <td>/elastic_Al500_lammps_tmp</td>\n",
       "      <td>/home/jovyan/</td>\n",
       "      <td>elastic_pipeline/</td>\n",
       "      <td>2021-01-29 16:24:35.265324</td>\n",
       "      <td>2021-01-29 16:24:41.434139</td>\n",
       "      <td>6.0</td>\n",
       "      <td>pyiron@jupyter-jan-2djanssen-2dpyiron-2ddamask-2dil4jnxmc#1</td>\n",
       "      <td>Lammps</td>\n",
       "      <td>0.1</td>\n",
       "      <td>None</td>\n",
       "      <td>7.0</td>\n",
       "    </tr>\n",
       "    <tr>\n",
       "      <th>8</th>\n",
       "      <td>9</td>\n",
       "      <td>finished</td>\n",
       "      <td>Al498Mg2</td>\n",
       "      <td>elastic_Al498Mg2</td>\n",
       "      <td>/elastic_Al498Mg2</td>\n",
       "      <td>/home/jovyan/</td>\n",
       "      <td>elastic_pipeline/</td>\n",
       "      <td>2021-01-29 16:24:43.134409</td>\n",
       "      <td>2021-01-29 16:25:14.774797</td>\n",
       "      <td>31.0</td>\n",
       "      <td>pyiron@jupyter-jan-2djanssen-2dpyiron-2ddamask-2dil4jnxmc#1#0</td>\n",
       "      <td>ElasticMatrixJob</td>\n",
       "      <td>0.0.1</td>\n",
       "      <td>None</td>\n",
       "      <td>NaN</td>\n",
       "    </tr>\n",
       "    <tr>\n",
       "      <th>9</th>\n",
       "      <td>10</td>\n",
       "      <td>finished</td>\n",
       "      <td>Al498Mg2</td>\n",
       "      <td>elastic_Al498Mg2_lammps_tmp</td>\n",
       "      <td>/elastic_Al498Mg2_lammps_tmp</td>\n",
       "      <td>/home/jovyan/</td>\n",
       "      <td>elastic_pipeline/</td>\n",
       "      <td>2021-01-29 16:24:44.730654</td>\n",
       "      <td>2021-01-29 16:25:13.887781</td>\n",
       "      <td>29.0</td>\n",
       "      <td>pyiron@jupyter-jan-2djanssen-2dpyiron-2ddamask-2dil4jnxmc#1</td>\n",
       "      <td>Lammps</td>\n",
       "      <td>0.1</td>\n",
       "      <td>None</td>\n",
       "      <td>9.0</td>\n",
       "    </tr>\n",
       "    <tr>\n",
       "      <th>10</th>\n",
       "      <td>11</td>\n",
       "      <td>finished</td>\n",
       "      <td>Al495Mg5</td>\n",
       "      <td>elastic_Al495Mg5</td>\n",
       "      <td>/elastic_Al495Mg5</td>\n",
       "      <td>/home/jovyan/</td>\n",
       "      <td>elastic_pipeline/</td>\n",
       "      <td>2021-01-29 16:25:15.240145</td>\n",
       "      <td>2021-01-29 16:26:09.777125</td>\n",
       "      <td>54.0</td>\n",
       "      <td>pyiron@jupyter-jan-2djanssen-2dpyiron-2ddamask-2dil4jnxmc#1#0</td>\n",
       "      <td>ElasticMatrixJob</td>\n",
       "      <td>0.0.1</td>\n",
       "      <td>None</td>\n",
       "      <td>NaN</td>\n",
       "    </tr>\n",
       "    <tr>\n",
       "      <th>11</th>\n",
       "      <td>12</td>\n",
       "      <td>finished</td>\n",
       "      <td>Al495Mg5</td>\n",
       "      <td>elastic_Al495Mg5_lammps_tmp</td>\n",
       "      <td>/elastic_Al495Mg5_lammps_tmp</td>\n",
       "      <td>/home/jovyan/</td>\n",
       "      <td>elastic_pipeline/</td>\n",
       "      <td>2021-01-29 16:25:17.706672</td>\n",
       "      <td>2021-01-29 16:26:08.885997</td>\n",
       "      <td>51.0</td>\n",
       "      <td>pyiron@jupyter-jan-2djanssen-2dpyiron-2ddamask-2dil4jnxmc#1</td>\n",
       "      <td>Lammps</td>\n",
       "      <td>0.1</td>\n",
       "      <td>None</td>\n",
       "      <td>11.0</td>\n",
       "    </tr>\n",
       "    <tr>\n",
       "      <th>12</th>\n",
       "      <td>13</td>\n",
       "      <td>finished</td>\n",
       "      <td>Al492Mg8</td>\n",
       "      <td>elastic_Al492Mg8</td>\n",
       "      <td>/elastic_Al492Mg8</td>\n",
       "      <td>/home/jovyan/</td>\n",
       "      <td>elastic_pipeline/</td>\n",
       "      <td>2021-01-29 16:26:10.245178</td>\n",
       "      <td>2021-01-29 16:26:59.974280</td>\n",
       "      <td>49.0</td>\n",
       "      <td>pyiron@jupyter-jan-2djanssen-2dpyiron-2ddamask-2dil4jnxmc#1#0</td>\n",
       "      <td>ElasticMatrixJob</td>\n",
       "      <td>0.0.1</td>\n",
       "      <td>None</td>\n",
       "      <td>NaN</td>\n",
       "    </tr>\n",
       "    <tr>\n",
       "      <th>13</th>\n",
       "      <td>14</td>\n",
       "      <td>finished</td>\n",
       "      <td>Al492Mg8</td>\n",
       "      <td>elastic_Al492Mg8_lammps_tmp</td>\n",
       "      <td>/elastic_Al492Mg8_lammps_tmp</td>\n",
       "      <td>/home/jovyan/</td>\n",
       "      <td>elastic_pipeline/</td>\n",
       "      <td>2021-01-29 16:26:12.431589</td>\n",
       "      <td>2021-01-29 16:26:59.062956</td>\n",
       "      <td>46.0</td>\n",
       "      <td>pyiron@jupyter-jan-2djanssen-2dpyiron-2ddamask-2dil4jnxmc#1</td>\n",
       "      <td>Lammps</td>\n",
       "      <td>0.1</td>\n",
       "      <td>None</td>\n",
       "      <td>13.0</td>\n",
       "    </tr>\n",
       "    <tr>\n",
       "      <th>14</th>\n",
       "      <td>15</td>\n",
       "      <td>finished</td>\n",
       "      <td>Al490Mg10</td>\n",
       "      <td>elastic_Al490Mg10</td>\n",
       "      <td>/elastic_Al490Mg10</td>\n",
       "      <td>/home/jovyan/</td>\n",
       "      <td>elastic_pipeline/</td>\n",
       "      <td>2021-01-29 16:27:00.441822</td>\n",
       "      <td>2021-01-29 16:27:53.702501</td>\n",
       "      <td>53.0</td>\n",
       "      <td>pyiron@jupyter-jan-2djanssen-2dpyiron-2ddamask-2dil4jnxmc#1#0</td>\n",
       "      <td>ElasticMatrixJob</td>\n",
       "      <td>0.0.1</td>\n",
       "      <td>None</td>\n",
       "      <td>NaN</td>\n",
       "    </tr>\n",
       "    <tr>\n",
       "      <th>15</th>\n",
       "      <td>16</td>\n",
       "      <td>finished</td>\n",
       "      <td>Al490Mg10</td>\n",
       "      <td>elastic_Al490Mg10_lammps_tmp</td>\n",
       "      <td>/elastic_Al490Mg10_lammps_tmp</td>\n",
       "      <td>/home/jovyan/</td>\n",
       "      <td>elastic_pipeline/</td>\n",
       "      <td>2021-01-29 16:27:02.592165</td>\n",
       "      <td>2021-01-29 16:27:52.762174</td>\n",
       "      <td>50.0</td>\n",
       "      <td>pyiron@jupyter-jan-2djanssen-2dpyiron-2ddamask-2dil4jnxmc#1</td>\n",
       "      <td>Lammps</td>\n",
       "      <td>0.1</td>\n",
       "      <td>None</td>\n",
       "      <td>15.0</td>\n",
       "    </tr>\n",
       "  </tbody>\n",
       "</table>\n",
       "</div>"
      ],
      "text/plain": [
       "    id    status chemicalformula                           job  \\\n",
       "0    1  finished           Al500                   lammps_mini   \n",
       "1    2  finished           Al500                     master_al   \n",
       "2    3  finished        Al498Mg2                     sqs_0_005   \n",
       "3    4  finished        Al495Mg5                      sqs_0_01   \n",
       "4    5  finished        Al492Mg8                     sqs_0_015   \n",
       "5    6  finished       Al490Mg10                      sqs_0_02   \n",
       "6    7  finished           Al500                 elastic_Al500   \n",
       "7    8  finished           Al500      elastic_Al500_lammps_tmp   \n",
       "8    9  finished        Al498Mg2              elastic_Al498Mg2   \n",
       "9   10  finished        Al498Mg2   elastic_Al498Mg2_lammps_tmp   \n",
       "10  11  finished        Al495Mg5              elastic_Al495Mg5   \n",
       "11  12  finished        Al495Mg5   elastic_Al495Mg5_lammps_tmp   \n",
       "12  13  finished        Al492Mg8              elastic_Al492Mg8   \n",
       "13  14  finished        Al492Mg8   elastic_Al492Mg8_lammps_tmp   \n",
       "14  15  finished       Al490Mg10             elastic_Al490Mg10   \n",
       "15  16  finished       Al490Mg10  elastic_Al490Mg10_lammps_tmp   \n",
       "\n",
       "                           subjob    projectpath  \\\n",
       "0                    /lammps_mini  /home/jovyan/   \n",
       "1                      /master_al  /home/jovyan/   \n",
       "2                      /sqs_0_005  /home/jovyan/   \n",
       "3                       /sqs_0_01  /home/jovyan/   \n",
       "4                      /sqs_0_015  /home/jovyan/   \n",
       "5                       /sqs_0_02  /home/jovyan/   \n",
       "6                  /elastic_Al500  /home/jovyan/   \n",
       "7       /elastic_Al500_lammps_tmp  /home/jovyan/   \n",
       "8               /elastic_Al498Mg2  /home/jovyan/   \n",
       "9    /elastic_Al498Mg2_lammps_tmp  /home/jovyan/   \n",
       "10              /elastic_Al495Mg5  /home/jovyan/   \n",
       "11   /elastic_Al495Mg5_lammps_tmp  /home/jovyan/   \n",
       "12              /elastic_Al492Mg8  /home/jovyan/   \n",
       "13   /elastic_Al492Mg8_lammps_tmp  /home/jovyan/   \n",
       "14             /elastic_Al490Mg10  /home/jovyan/   \n",
       "15  /elastic_Al490Mg10_lammps_tmp  /home/jovyan/   \n",
       "\n",
       "                             project                  timestart  \\\n",
       "0                  elastic_pipeline/ 2021-01-29 16:24:17.349208   \n",
       "1                  elastic_pipeline/ 2021-01-29 16:24:20.458827   \n",
       "2   elastic_pipeline/master_al_hdf5/ 2021-01-29 16:24:21.061644   \n",
       "3   elastic_pipeline/master_al_hdf5/ 2021-01-29 16:24:22.798986   \n",
       "4   elastic_pipeline/master_al_hdf5/ 2021-01-29 16:24:24.726199   \n",
       "5   elastic_pipeline/master_al_hdf5/ 2021-01-29 16:24:29.334604   \n",
       "6                  elastic_pipeline/ 2021-01-29 16:24:33.884426   \n",
       "7                  elastic_pipeline/ 2021-01-29 16:24:35.265324   \n",
       "8                  elastic_pipeline/ 2021-01-29 16:24:43.134409   \n",
       "9                  elastic_pipeline/ 2021-01-29 16:24:44.730654   \n",
       "10                 elastic_pipeline/ 2021-01-29 16:25:15.240145   \n",
       "11                 elastic_pipeline/ 2021-01-29 16:25:17.706672   \n",
       "12                 elastic_pipeline/ 2021-01-29 16:26:10.245178   \n",
       "13                 elastic_pipeline/ 2021-01-29 16:26:12.431589   \n",
       "14                 elastic_pipeline/ 2021-01-29 16:27:00.441822   \n",
       "15                 elastic_pipeline/ 2021-01-29 16:27:02.592165   \n",
       "\n",
       "                     timestop  totalcputime  \\\n",
       "0  2021-01-29 16:24:18.185689           0.0   \n",
       "1  2021-01-29 16:24:30.522151          10.0   \n",
       "2  2021-01-29 16:24:22.179395           1.0   \n",
       "3  2021-01-29 16:24:24.066690           1.0   \n",
       "4  2021-01-29 16:24:28.492472           3.0   \n",
       "5  2021-01-29 16:24:30.497905           1.0   \n",
       "6  2021-01-29 16:24:42.685241           8.0   \n",
       "7  2021-01-29 16:24:41.434139           6.0   \n",
       "8  2021-01-29 16:25:14.774797          31.0   \n",
       "9  2021-01-29 16:25:13.887781          29.0   \n",
       "10 2021-01-29 16:26:09.777125          54.0   \n",
       "11 2021-01-29 16:26:08.885997          51.0   \n",
       "12 2021-01-29 16:26:59.974280          49.0   \n",
       "13 2021-01-29 16:26:59.062956          46.0   \n",
       "14 2021-01-29 16:27:53.702501          53.0   \n",
       "15 2021-01-29 16:27:52.762174          50.0   \n",
       "\n",
       "                                                           computer  \\\n",
       "0       pyiron@jupyter-jan-2djanssen-2dpyiron-2ddamask-2dil4jnxmc#1   \n",
       "1   pyiron@jupyter-jan-2djanssen-2dpyiron-2ddamask-2dil4jnxmc#1#4/4   \n",
       "2       pyiron@jupyter-jan-2djanssen-2dpyiron-2ddamask-2dil4jnxmc#1   \n",
       "3       pyiron@jupyter-jan-2djanssen-2dpyiron-2ddamask-2dil4jnxmc#1   \n",
       "4       pyiron@jupyter-jan-2djanssen-2dpyiron-2ddamask-2dil4jnxmc#1   \n",
       "5       pyiron@jupyter-jan-2djanssen-2dpyiron-2ddamask-2dil4jnxmc#1   \n",
       "6     pyiron@jupyter-jan-2djanssen-2dpyiron-2ddamask-2dil4jnxmc#1#0   \n",
       "7       pyiron@jupyter-jan-2djanssen-2dpyiron-2ddamask-2dil4jnxmc#1   \n",
       "8     pyiron@jupyter-jan-2djanssen-2dpyiron-2ddamask-2dil4jnxmc#1#0   \n",
       "9       pyiron@jupyter-jan-2djanssen-2dpyiron-2ddamask-2dil4jnxmc#1   \n",
       "10    pyiron@jupyter-jan-2djanssen-2dpyiron-2ddamask-2dil4jnxmc#1#0   \n",
       "11      pyiron@jupyter-jan-2djanssen-2dpyiron-2ddamask-2dil4jnxmc#1   \n",
       "12    pyiron@jupyter-jan-2djanssen-2dpyiron-2ddamask-2dil4jnxmc#1#0   \n",
       "13      pyiron@jupyter-jan-2djanssen-2dpyiron-2ddamask-2dil4jnxmc#1   \n",
       "14    pyiron@jupyter-jan-2djanssen-2dpyiron-2ddamask-2dil4jnxmc#1#0   \n",
       "15      pyiron@jupyter-jan-2djanssen-2dpyiron-2ddamask-2dil4jnxmc#1   \n",
       "\n",
       "            hamilton hamversion parentid  masterid  \n",
       "0             Lammps        0.1     None       NaN  \n",
       "1          SQSMaster      0.0.1     None       NaN  \n",
       "2             SQSJob        0.1     None       2.0  \n",
       "3             SQSJob        0.1     None       2.0  \n",
       "4             SQSJob        0.1     None       2.0  \n",
       "5             SQSJob        0.1     None       2.0  \n",
       "6   ElasticMatrixJob      0.0.1     None       NaN  \n",
       "7             Lammps        0.1     None       7.0  \n",
       "8   ElasticMatrixJob      0.0.1     None       NaN  \n",
       "9             Lammps        0.1     None       9.0  \n",
       "10  ElasticMatrixJob      0.0.1     None       NaN  \n",
       "11            Lammps        0.1     None      11.0  \n",
       "12  ElasticMatrixJob      0.0.1     None       NaN  \n",
       "13            Lammps        0.1     None      13.0  \n",
       "14  ElasticMatrixJob      0.0.1     None       NaN  \n",
       "15            Lammps        0.1     None      15.0  "
      ]
     },
     "execution_count": 10,
     "metadata": {},
     "output_type": "execute_result"
    }
   ],
   "source": [
    "pr.job_table()"
   ]
  },
  {
   "cell_type": "code",
   "execution_count": 11,
   "metadata": {},
   "outputs": [],
   "source": [
    "def filter_function(job): \n",
    "    return \"elastic_\" in job.job_name and \"lammps_tmp\" not in job.job_name"
   ]
  },
  {
   "cell_type": "code",
   "execution_count": 12,
   "metadata": {},
   "outputs": [],
   "source": [
    "def get_c11(job):\n",
    "    return job[\"output/elasticmatrix\"][\"C\"][0,0]\n",
    "\n",
    "def get_c12(job):\n",
    "    return job[\"output/elasticmatrix\"][\"C\"][0,1]\n",
    "\n",
    "def get_c44(job):\n",
    "    return job[\"output/elasticmatrix\"][\"C\"][3,3]"
   ]
  },
  {
   "cell_type": "code",
   "execution_count": 13,
   "metadata": {},
   "outputs": [],
   "source": [
    "table = pr.create_table()"
   ]
  },
  {
   "cell_type": "code",
   "execution_count": 14,
   "metadata": {},
   "outputs": [],
   "source": [
    "table.filter_function = filter_function\n",
    "table.add[\"C11\"] = get_c11\n",
    "table.add[\"C12\"] = get_c12\n",
    "table.add[\"C44\"] = get_c44"
   ]
  },
  {
   "cell_type": "code",
   "execution_count": 15,
   "metadata": {},
   "outputs": [
    {
     "name": "stderr",
     "output_type": "stream",
     "text": [
      "100%|██████████| 17/17 [00:00<00:00, 828.43it/s]\n",
      " 20%|██        | 1/5 [00:00<00:00,  6.80it/s]"
     ]
    },
    {
     "name": "stdout",
     "output_type": "stream",
     "text": [
      "The job table was saved and received the ID: 17\n"
     ]
    },
    {
     "name": "stderr",
     "output_type": "stream",
     "text": [
      "100%|██████████| 5/5 [00:02<00:00,  1.81it/s]\n"
     ]
    }
   ],
   "source": [
    "table.run()"
   ]
  },
  {
   "cell_type": "code",
   "execution_count": 16,
   "metadata": {},
   "outputs": [
    {
     "data": {
      "text/html": [
       "<div>\n",
       "<style scoped>\n",
       "    .dataframe tbody tr th:only-of-type {\n",
       "        vertical-align: middle;\n",
       "    }\n",
       "\n",
       "    .dataframe tbody tr th {\n",
       "        vertical-align: top;\n",
       "    }\n",
       "\n",
       "    .dataframe thead th {\n",
       "        text-align: right;\n",
       "    }\n",
       "</style>\n",
       "<table border=\"1\" class=\"dataframe\">\n",
       "  <thead>\n",
       "    <tr style=\"text-align: right;\">\n",
       "      <th></th>\n",
       "      <th>job_id</th>\n",
       "      <th>C11</th>\n",
       "      <th>C12</th>\n",
       "      <th>C44</th>\n",
       "    </tr>\n",
       "  </thead>\n",
       "  <tbody>\n",
       "    <tr>\n",
       "      <th>0</th>\n",
       "      <td>7</td>\n",
       "      <td>110.193270</td>\n",
       "      <td>61.752630</td>\n",
       "      <td>32.746691</td>\n",
       "    </tr>\n",
       "    <tr>\n",
       "      <th>1</th>\n",
       "      <td>9</td>\n",
       "      <td>111.877929</td>\n",
       "      <td>62.841568</td>\n",
       "      <td>33.245410</td>\n",
       "    </tr>\n",
       "    <tr>\n",
       "      <th>2</th>\n",
       "      <td>11</td>\n",
       "      <td>113.162758</td>\n",
       "      <td>64.525713</td>\n",
       "      <td>34.087742</td>\n",
       "    </tr>\n",
       "    <tr>\n",
       "      <th>3</th>\n",
       "      <td>13</td>\n",
       "      <td>114.305713</td>\n",
       "      <td>66.200398</td>\n",
       "      <td>34.932160</td>\n",
       "    </tr>\n",
       "    <tr>\n",
       "      <th>4</th>\n",
       "      <td>15</td>\n",
       "      <td>115.631716</td>\n",
       "      <td>67.369169</td>\n",
       "      <td>35.499085</td>\n",
       "    </tr>\n",
       "  </tbody>\n",
       "</table>\n",
       "</div>"
      ],
      "text/plain": [
       "   job_id         C11        C12        C44\n",
       "0       7  110.193270  61.752630  32.746691\n",
       "1       9  111.877929  62.841568  33.245410\n",
       "2      11  113.162758  64.525713  34.087742\n",
       "3      13  114.305713  66.200398  34.932160\n",
       "4      15  115.631716  67.369169  35.499085"
      ]
     },
     "execution_count": 16,
     "metadata": {},
     "output_type": "execute_result"
    }
   ],
   "source": [
    "df_data = table.get_dataframe()\n",
    "df_data"
   ]
  },
  {
   "cell_type": "markdown",
   "metadata": {},
   "source": [
    "## Analysis\n",
    "\n",
    "Finally, let's use numpy to make a polynomial fit of our elastic constants to alloying concentration and visualize the results.\n",
    "\n",
    "Note: pure-Al data lines up very nicely with the pure Al elastic constants [reported on the NIST website for this potential](https://www.ctcms.nist.gov/potentials/entry/2009--Mendelev-M-I-Asta-M-Rahman-M-J-Hoyt-J-J--Al-Mg/2009--Mendelev-M-I--Al-Mg--LAMMPS--ipr1.html). I don't have a good sense for exactly what <2% Mg should be doing, but at least there are no sharp changes. Sanity check passed."
   ]
  },
  {
   "cell_type": "code",
   "execution_count": 17,
   "metadata": {},
   "outputs": [],
   "source": [
    "concentrations = np.array(concentration_lst)"
   ]
  },
  {
   "cell_type": "code",
   "execution_count": 18,
   "metadata": {},
   "outputs": [],
   "source": [
    "C11_data = df_data[\"C11\"].values\n",
    "C12_data = df_data[\"C12\"].values\n",
    "C44_data = df_data[\"C44\"].values"
   ]
  },
  {
   "cell_type": "code",
   "execution_count": 19,
   "metadata": {
    "ExecuteTime": {
     "end_time": "2020-10-05T08:18:13.444764Z",
     "start_time": "2020-10-05T08:18:13.425319Z"
    }
   },
   "outputs": [],
   "source": [
    "fit_degree = 2\n",
    "C11_fit = np.polyfit(concentrations, C11_data, deg=fit_degree)\n",
    "C12_fit = np.polyfit(concentrations, C12_data, deg=fit_degree)\n",
    "C44_fit = np.polyfit(concentrations, C44_data, deg=fit_degree)\n",
    "c = np.linspace(concentrations.min(), concentrations.max(), 100)  # 'Continuous' concentration"
   ]
  },
  {
   "cell_type": "code",
   "execution_count": 20,
   "metadata": {
    "ExecuteTime": {
     "end_time": "2020-10-05T08:18:13.478125Z",
     "start_time": "2020-10-05T08:18:13.465417Z"
    }
   },
   "outputs": [
    {
     "name": "stdout",
     "output_type": "stream",
     "text": [
      "[-2454.81759608   315.18989324   110.25060101]\n",
      "[429.16128807 283.25494384  61.64097186]\n",
      "[395.70293493 135.91668804  32.68369521]\n"
     ]
    }
   ],
   "source": [
    "# p(x) = p[0] * x**deg + ... + p[deg]\n",
    "print(C11_fit)\n",
    "print(C12_fit)\n",
    "print(C44_fit)"
   ]
  },
  {
   "cell_type": "code",
   "execution_count": 21,
   "metadata": {
    "ExecuteTime": {
     "end_time": "2020-10-05T08:18:14.491958Z",
     "start_time": "2020-10-05T08:18:13.507439Z"
    }
   },
   "outputs": [],
   "source": [
    "for color, data, fit, label in zip(\n",
    "    sns.color_palette(n_colors=3), \n",
    "    [C11_data, C12_data, C44_data], \n",
    "    [C11_fit, C12_fit, C44_fit],\n",
    "    ['C11', 'C12', 'C44']\n",
    "):\n",
    "    plt.scatter(concentrations, data, color=color)\n",
    "    plt.plot(c, np.polyval(fit, c), color=color, label=label)\n",
    "plt.xlabel('Mg concentration')\n",
    "plt.ylabel('Elastic constant (GPa)')\n",
    "plt.legend()\n",
    "plt.show()"
   ]
  },
  {
   "cell_type": "markdown",
   "metadata": {},
   "source": [
    "# DAMASK Simulations\n",
    "The steps include, defining:\n",
    "- geometries\n",
    "- grains\n",
    "- loading\n",
    "- material properties based on the atomistically-evaluated \n",
    "- perfoming simulations"
   ]
  },
  {
   "cell_type": "code",
   "execution_count": 22,
   "metadata": {},
   "outputs": [
    {
     "data": {
      "text/plain": [
       "array([0.  , 0.01, 0.02])"
      ]
     },
     "execution_count": 22,
     "metadata": {},
     "output_type": "execute_result"
    }
   ],
   "source": [
    "concentrations[::2]"
   ]
  },
  {
   "cell_type": "code",
   "execution_count": 23,
   "metadata": {},
   "outputs": [],
   "source": [
    "with open('Examples/material.yaml') as f:\n",
    "    material = yaml.load(f, Loader=yaml.FullLoader)\n",
    "with open('Examples/tensionX.load') as f:\n",
    "    tension = f.readlines()"
   ]
  },
  {
   "cell_type": "code",
   "execution_count": 24,
   "metadata": {},
   "outputs": [
    {
     "name": "stdout",
     "output_type": "stream",
     "text": [
      "The job damask_mg_0 was saved and received the ID: 18\n",
      "The job damask_mg_1 was saved and received the ID: 19\n",
      "The job damask_mg_2 was saved and received the ID: 20\n"
     ]
    }
   ],
   "source": [
    "job_lst = []\n",
    "for i,c in enumerate(concentrations[::2]):\n",
    "    job = pr.create_job(DAMASKjob, \"damask_\" + 'mg_{}'.format(int(c*100)))\n",
    "    job.material = material\n",
    "    job.tension = tension\n",
    "    job.input['C11'] = float(np.polyval(C11_fit, c))\n",
    "    job.input['C12'] = float(np.polyval(C12_fit, c))\n",
    "    job.input['C44'] = float(np.polyval(C44_fit, c))\n",
    "    job.run()\n",
    "    job_lst.append(job)"
   ]
  },
  {
   "cell_type": "markdown",
   "metadata": {},
   "source": [
    "## Post-processing DAMASK simulations\n",
    "- Von-Mises stress for each case is calculated\n",
    "- The Stress-strain data is evaluated for each case\n"
   ]
  },
  {
   "cell_type": "code",
   "execution_count": 25,
   "metadata": {},
   "outputs": [
    {
     "name": "stderr",
     "output_type": "stream",
     "text": [
      " ██████████████████████████████████████████████████ 100% ETA 0:00:00\n",
      " ██████████████████████████████████████████████████ 100% ETA 0:00:00\n",
      " ██████████████████████████████████████████████████ 100% ETA 0:00:00\n"
     ]
    },
    {
     "name": "stdout",
     "output_type": "stream",
     "text": [
      "No matching dataset found, no data was added.\n"
     ]
    },
    {
     "name": "stderr",
     "output_type": "stream",
     "text": [
      " ██████████████████████████████████████████████████ 100% ETA 0:00:00\n",
      " ░░░░░░░░░░░░░░░░░░░░░░░░░░░░░░░░░░░░░░░░░░░░░░░░░░   0% ETA n/a"
     ]
    },
    {
     "name": "stdout",
     "output_type": "stream",
     "text": [
      "No matching dataset found, no data was added.\n"
     ]
    },
    {
     "name": "stderr",
     "output_type": "stream",
     "text": [
      " ██████████████████████████████████████████████████ 100% ETA 0:00:00\n"
     ]
    },
    {
     "ename": "KeyError",
     "evalue": "\"Unable to open object (object 'avg_epsilon' doesn't exist)\"",
     "output_type": "error",
     "traceback": [
      "\u001b[0;31m---------------------------------------------------------------------------\u001b[0m",
      "\u001b[0;31mKeyError\u001b[0m                                  Traceback (most recent call last)",
      "\u001b[0;32m<ipython-input-25-f80777904526>\u001b[0m in \u001b[0;36m<module>\u001b[0;34m\u001b[0m\n\u001b[1;32m     10\u001b[0m     \u001b[0mdamask_results\u001b[0m\u001b[0;34m.\u001b[0m\u001b[0msave_VTK\u001b[0m\u001b[0;34m(\u001b[0m\u001b[0;34m[\u001b[0m\u001b[0;34m'sigma'\u001b[0m\u001b[0;34m,\u001b[0m\u001b[0;34m'epsilon_V^0.0(F)'\u001b[0m\u001b[0;34m,\u001b[0m\u001b[0;34m'sigma_vM'\u001b[0m\u001b[0;34m,\u001b[0m\u001b[0;34m'epsilon_V^0.0(F)_vM'\u001b[0m\u001b[0;34m]\u001b[0m\u001b[0;34m)\u001b[0m\u001b[0;34m\u001b[0m\u001b[0;34m\u001b[0m\u001b[0m\n\u001b[1;32m     11\u001b[0m     \u001b[0mstresses\u001b[0m\u001b[0;34m.\u001b[0m\u001b[0mappend\u001b[0m\u001b[0;34m(\u001b[0m\u001b[0mjob\u001b[0m\u001b[0;34m.\u001b[0m\u001b[0meval_stress\u001b[0m\u001b[0;34m(\u001b[0m\u001b[0;34m)\u001b[0m\u001b[0;34m)\u001b[0m\u001b[0;34m\u001b[0m\u001b[0;34m\u001b[0m\u001b[0m\n\u001b[0;32m---> 12\u001b[0;31m     \u001b[0mstrains\u001b[0m\u001b[0;34m.\u001b[0m\u001b[0mappend\u001b[0m\u001b[0;34m(\u001b[0m\u001b[0mjob\u001b[0m\u001b[0;34m.\u001b[0m\u001b[0meval_strain\u001b[0m\u001b[0;34m(\u001b[0m\u001b[0;34m)\u001b[0m\u001b[0;34m)\u001b[0m\u001b[0;34m\u001b[0m\u001b[0;34m\u001b[0m\u001b[0m\n\u001b[0m",
      "\u001b[0;32m~/damaskjob.py\u001b[0m in \u001b[0;36meval_strain\u001b[0;34m(self)\u001b[0m\n\u001b[1;32m    128\u001b[0m             \u001b[0mhdf\u001b[0m \u001b[0;34m=\u001b[0m \u001b[0mh5py\u001b[0m\u001b[0;34m.\u001b[0m\u001b[0mFile\u001b[0m\u001b[0;34m(\u001b[0m\u001b[0md\u001b[0m\u001b[0;34m.\u001b[0m\u001b[0mfname\u001b[0m\u001b[0;34m)\u001b[0m\u001b[0;34m\u001b[0m\u001b[0;34m\u001b[0m\u001b[0m\n\u001b[1;32m    129\u001b[0m             \u001b[0;32mfor\u001b[0m \u001b[0mcount\u001b[0m\u001b[0;34m,\u001b[0m\u001b[0mpath\u001b[0m \u001b[0;32min\u001b[0m \u001b[0menumerate\u001b[0m\u001b[0;34m(\u001b[0m\u001b[0mstress_path\u001b[0m\u001b[0;34m)\u001b[0m\u001b[0;34m:\u001b[0m\u001b[0;34m\u001b[0m\u001b[0;34m\u001b[0m\u001b[0m\n\u001b[0;32m--> 130\u001b[0;31m                 \u001b[0mstrain\u001b[0m\u001b[0;34m[\u001b[0m\u001b[0mcount\u001b[0m\u001b[0;34m]\u001b[0m \u001b[0;34m=\u001b[0m \u001b[0mnp\u001b[0m\u001b[0;34m.\u001b[0m\u001b[0marray\u001b[0m\u001b[0;34m(\u001b[0m\u001b[0mhdf\u001b[0m\u001b[0;34m[\u001b[0m\u001b[0mpath\u001b[0m\u001b[0;34m.\u001b[0m\u001b[0msplit\u001b[0m\u001b[0;34m(\u001b[0m\u001b[0;34m'avg_sigma'\u001b[0m\u001b[0;34m)\u001b[0m\u001b[0;34m[\u001b[0m\u001b[0;36m0\u001b[0m\u001b[0;34m]\u001b[0m     \u001b[0;34m+\u001b[0m \u001b[0;34m'avg_epsilon'\u001b[0m\u001b[0;34m]\u001b[0m\u001b[0;34m)\u001b[0m\u001b[0;34m\u001b[0m\u001b[0;34m\u001b[0m\u001b[0m\n\u001b[0m\u001b[1;32m    131\u001b[0m \u001b[0;34m\u001b[0m\u001b[0m\n\u001b[1;32m    132\u001b[0m             \u001b[0;32mreturn\u001b[0m \u001b[0mstrain\u001b[0m\u001b[0;34m\u001b[0m\u001b[0;34m\u001b[0m\u001b[0m\n",
      "\u001b[0;32mh5py/_objects.pyx\u001b[0m in \u001b[0;36mh5py._objects.with_phil.wrapper\u001b[0;34m()\u001b[0m\n",
      "\u001b[0;32mh5py/_objects.pyx\u001b[0m in \u001b[0;36mh5py._objects.with_phil.wrapper\u001b[0;34m()\u001b[0m\n",
      "\u001b[0;32m/srv/conda/envs/notebook/lib/python3.7/site-packages/h5py/_hl/group.py\u001b[0m in \u001b[0;36m__getitem__\u001b[0;34m(self, name)\u001b[0m\n\u001b[1;32m    286\u001b[0m                 \u001b[0;32mraise\u001b[0m \u001b[0mValueError\u001b[0m\u001b[0;34m(\u001b[0m\u001b[0;34m\"Invalid HDF5 object reference\"\u001b[0m\u001b[0;34m)\u001b[0m\u001b[0;34m\u001b[0m\u001b[0;34m\u001b[0m\u001b[0m\n\u001b[1;32m    287\u001b[0m         \u001b[0;32melse\u001b[0m\u001b[0;34m:\u001b[0m\u001b[0;34m\u001b[0m\u001b[0;34m\u001b[0m\u001b[0m\n\u001b[0;32m--> 288\u001b[0;31m             \u001b[0moid\u001b[0m \u001b[0;34m=\u001b[0m \u001b[0mh5o\u001b[0m\u001b[0;34m.\u001b[0m\u001b[0mopen\u001b[0m\u001b[0;34m(\u001b[0m\u001b[0mself\u001b[0m\u001b[0;34m.\u001b[0m\u001b[0mid\u001b[0m\u001b[0;34m,\u001b[0m \u001b[0mself\u001b[0m\u001b[0;34m.\u001b[0m\u001b[0m_e\u001b[0m\u001b[0;34m(\u001b[0m\u001b[0mname\u001b[0m\u001b[0;34m)\u001b[0m\u001b[0;34m,\u001b[0m \u001b[0mlapl\u001b[0m\u001b[0;34m=\u001b[0m\u001b[0mself\u001b[0m\u001b[0;34m.\u001b[0m\u001b[0m_lapl\u001b[0m\u001b[0;34m)\u001b[0m\u001b[0;34m\u001b[0m\u001b[0;34m\u001b[0m\u001b[0m\n\u001b[0m\u001b[1;32m    289\u001b[0m \u001b[0;34m\u001b[0m\u001b[0m\n\u001b[1;32m    290\u001b[0m         \u001b[0motype\u001b[0m \u001b[0;34m=\u001b[0m \u001b[0mh5i\u001b[0m\u001b[0;34m.\u001b[0m\u001b[0mget_type\u001b[0m\u001b[0;34m(\u001b[0m\u001b[0moid\u001b[0m\u001b[0;34m)\u001b[0m\u001b[0;34m\u001b[0m\u001b[0;34m\u001b[0m\u001b[0m\n",
      "\u001b[0;32mh5py/_objects.pyx\u001b[0m in \u001b[0;36mh5py._objects.with_phil.wrapper\u001b[0;34m()\u001b[0m\n",
      "\u001b[0;32mh5py/_objects.pyx\u001b[0m in \u001b[0;36mh5py._objects.with_phil.wrapper\u001b[0;34m()\u001b[0m\n",
      "\u001b[0;32mh5py/h5o.pyx\u001b[0m in \u001b[0;36mh5py.h5o.open\u001b[0;34m()\u001b[0m\n",
      "\u001b[0;31mKeyError\u001b[0m: \"Unable to open object (object 'avg_epsilon' doesn't exist)\""
     ]
    }
   ],
   "source": [
    "stresses, strains = [], []\n",
    "for job in job_lst: \n",
    "    damask_results = job.output\n",
    "    damask_results.add_stress_Cauchy()\n",
    "    damask_results.add_stretch_tensor()\n",
    "    damask_results.add_equivalent_Mises('sigma')\n",
    "    damask_results.add_equivalent_Mises('epsilon_V^0.0(F)')\n",
    "    damask_results.add_calculation('avg_sigma',\"np.average(#sigma_vM#)\")\n",
    "    damask_results.add_calculation('avg_epsilon',\"np.average(#epsilon_V^0.0(F)_vM#)\")\n",
    "    damask_results.save_VTK(['sigma','epsilon_V^0.0(F)','sigma_vM','epsilon_V^0.0(F)_vM'])\n",
    "    stresses.append(job.eval_stress())\n",
    "    strains.append(job.eval_strain())"
   ]
  },
  {
   "cell_type": "markdown",
   "metadata": {},
   "source": [
    "## Visualization\n",
    "### Von-Mises Stress"
   ]
  },
  {
   "cell_type": "code",
   "execution_count": null,
   "metadata": {},
   "outputs": [],
   "source": [
    "import os"
   ]
  },
  {
   "cell_type": "code",
   "execution_count": null,
   "metadata": {},
   "outputs": [],
   "source": [
    "import pyvista as pv\n",
    "inc=20\n",
    "mesh = pv.read(os.path.basename(job.output_file.split('.')[0]) + f'_inc{inc}.vtr')  #enter the file name you wish to view"
   ]
  },
  {
   "cell_type": "code",
   "execution_count": null,
   "metadata": {},
   "outputs": [],
   "source": [
    "from itkwidgets import view\n",
    "import itk\n",
    "mesh"
   ]
  },
  {
   "cell_type": "code",
   "execution_count": null,
   "metadata": {},
   "outputs": [],
   "source": [
    "pl = pv.PlotterITK()\n",
    "pl.add_mesh(mesh)\n",
    "pl.show()"
   ]
  },
  {
   "cell_type": "markdown",
   "metadata": {},
   "source": [
    "### Stress-strain curve"
   ]
  },
  {
   "cell_type": "code",
   "execution_count": null,
   "metadata": {},
   "outputs": [],
   "source": [
    "%matplotlib inline"
   ]
  },
  {
   "cell_type": "code",
   "execution_count": null,
   "metadata": {},
   "outputs": [],
   "source": [
    "i = 0;\n",
    "colors = ['r','g','b']\n",
    "#for color, strain, stress, c in zip(colors, strains, stresses, concentrations):\n",
    "plt.plot(strains[0], stresses[0], 'r', linewidth=2, label = 'Mg={}%'.format(0*100))\n",
    "plt.plot(strains[1], stresses[1], 'b', linestyle=\"None\",marker = 'o' ,label = 'Mg={}%'.format(0.01*100))\n",
    "plt.plot(strains[1], stresses[2], 'g', linestyle=\"None\",marker = '*' ,label = 'Mg={}%'.format(0.02*100))\n",
    "#plt.ylim(90, 95)\n",
    "plt.grid(True)\n",
    "plt.xlabel('$Strain$')\n",
    "plt.ylabel('Stress- MPa')\n",
    "plt.legend( loc='lower right')\n",
    "plt.title(\"Stress-Strain\")\n",
    " #   i= i+1;"
   ]
  },
  {
   "cell_type": "code",
   "execution_count": null,
   "metadata": {},
   "outputs": [],
   "source": []
  }
 ],
 "metadata": {
  "kernelspec": {
   "display_name": "Python 3",
   "language": "python",
   "name": "python3"
  },
  "language_info": {
   "codemirror_mode": {
    "name": "ipython",
    "version": 3
   },
   "file_extension": ".py",
   "mimetype": "text/x-python",
   "name": "python",
   "nbconvert_exporter": "python",
   "pygments_lexer": "ipython3",
   "version": "3.7.8"
  },
  "toc": {
   "base_numbering": 1,
   "nav_menu": {},
   "number_sections": true,
   "sideBar": true,
   "skip_h1_title": false,
   "title_cell": "Table of Contents",
   "title_sidebar": "Contents",
   "toc_cell": false,
   "toc_position": {},
   "toc_section_display": true,
   "toc_window_display": false
  }
 },
 "nbformat": 4,
 "nbformat_minor": 4
}
